{
 "cells": [
  {
   "cell_type": "code",
   "execution_count": 1,
   "metadata": {},
   "outputs": [
    {
     "name": "stdout",
     "output_type": "stream",
     "text": [
      "WARNING:tensorflow:From C:\\Users\\hung\\Anaconda3\\envs\\tensorflow\\lib\\site-packages\\mtcnn\\layer_factory.py:211: calling reduce_max (from tensorflow.python.ops.math_ops) with keep_dims is deprecated and will be removed in a future version.\n",
      "Instructions for updating:\n",
      "keep_dims is deprecated, use keepdims instead\n",
      "WARNING:tensorflow:From C:\\Users\\hung\\Anaconda3\\envs\\tensorflow\\lib\\site-packages\\mtcnn\\layer_factory.py:213: calling reduce_sum (from tensorflow.python.ops.math_ops) with keep_dims is deprecated and will be removed in a future version.\n",
      "Instructions for updating:\n",
      "keep_dims is deprecated, use keepdims instead\n",
      "[{'box': [277, 90, 48, 63], 'confidence': 0.9985162615776062, 'keypoints': {'left_eye': (291, 117), 'right_eye': (314, 114), 'nose': (303, 131), 'mouth_left': (296, 143), 'mouth_right': (313, 141)}}]\n"
     ]
    }
   ],
   "source": [
    "#!/usr/bin/env python3\n",
    "# -*- coding: utf-8 -*-\n",
    "\n",
    "import cv2\n",
    "from mtcnn.mtcnn import MTCNN\n",
    "\n",
    "detector = MTCNN()\n",
    "\n",
    "image = cv2.imread(\"ivan.jpg\")\n",
    "result = detector.detect_faces(image)\n",
    "\n",
    "# Result is an array with all the bounding boxes detected. We know that for 'ivan.jpg' there is only one.\n",
    "bounding_box = result[0]['box']\n",
    "keypoints = result[0]['keypoints']\n",
    "\n",
    "cv2.rectangle(image,\n",
    "              (bounding_box[0], bounding_box[1]),\n",
    "              (bounding_box[0]+bounding_box[2], bounding_box[1] + bounding_box[3]),\n",
    "              (0,155,255),\n",
    "              2)\n",
    "\n",
    "cv2.circle(image,(keypoints['left_eye']), 2, (0,155,255), 2)\n",
    "cv2.circle(image,(keypoints['right_eye']), 2, (0,155,255), 2)\n",
    "cv2.circle(image,(keypoints['nose']), 2, (0,155,255), 2)\n",
    "cv2.circle(image,(keypoints['mouth_left']), 2, (0,155,255), 2)\n",
    "cv2.circle(image,(keypoints['mouth_right']), 2, (0,155,255), 2)\n",
    "\n",
    "cv2.imwrite(\"ivan_drawn.jpg\", image)\n",
    "\n",
    "print(result)"
   ]
  },
  {
   "cell_type": "code",
   "execution_count": null,
   "metadata": {},
   "outputs": [],
   "source": []
  }
 ],
 "metadata": {
  "kernelspec": {
   "display_name": "Python 3",
   "language": "python",
   "name": "python3"
  },
  "language_info": {
   "codemirror_mode": {
    "name": "ipython",
    "version": 3
   },
   "file_extension": ".py",
   "mimetype": "text/x-python",
   "name": "python",
   "nbconvert_exporter": "python",
   "pygments_lexer": "ipython3",
   "version": "3.6.8"
  }
 },
 "nbformat": 4,
 "nbformat_minor": 2
}
